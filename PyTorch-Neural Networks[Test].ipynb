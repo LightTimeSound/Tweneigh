{
    "cells": [
     {
         "cell_type": "markdown",
         "source": [
             "# Deep Learning with Neural Networks using PyTorch"
         ],
         "metadata": {}
     },
     {
         "cell_type": "markdown",
         "source": [
             "In this tutorial, we will explore the fundamentals of deep learning using neural networks in PyTorch. We will cover the following topics:\n",
             "\n",
             "1. Explanation of key concepts\n",
             "2. Contextualize the topic\n",
             "3. Explain parameters and settings\n",
             "4. Training process\n",
             "5. Saving and loading outputs\n",
             "6. Evaluation and interpretation\n",
             "7. Practical application"
         ],
         "metadata": {}
     },
     {
         "cell_type": "markdown",
         "source": [
             "## 1. Explanation of Key Concepts"
         ],
         "metadata": {}
     },
     {
         "cell_type": "markdown",
         "source": [
             "A neural network is a computational model inspired by the structure of biological neurons, designed to recognize patterns in data. It consists of layers of interconnected nodes or neurons, where each neuron processes input data and passes the result to the next layer.\n",
             "\n",
             "Deep learning is a subset of machine learning that deals with artificial neural networks with multiple layers, allowing the model to learn complex features from data.\n",
             "\n",
             "**Key components**:\n",
             "\n",
             "* Neuron: The basic unit of a neural network, which takes input data, applies an activation function, and passes the output to the next layer.\n",
             "* Activation function: A mathematical function that maps input data into a desired range, usually nonlinear (e.g., ReLU, Sigmoid, Tanh).\n",
             "* Layers: Neurons are organized into layers (input, hidden, and output) to form a neural network.\n",
             "* Weights and biases: Parameters of the neurons that are learned during the training process to minimize the error between predicted and actual outputs.\n",
             "* Loss function: A measure of the difference between predicted and actual outputs, which is minimized during training (e.g., Mean Squared Error, Cross-Entropy Loss).\n",
             "* Optimizer: An algorithm that adjusts the weights and biases to minimize the loss function (e.g., Stochastic Gradient Descent, Adam)."
         ],
         "metadata": {}
     },
     {
         "cell_type": "markdown",
         "source": [
             "## 2. Contextualize the Topic"
         ],
         "metadata": {}
     },
     {
         "cell_type": "markdown",
         "source": [
             "In this tutorial, we will be using the popular MNIST dataset, which consists of 70,000 grayscale images of handwritten digits (0-9). Each image is 28x28 pixels. Our task is to create a neural network model using PyTorch that can classify these images into their respective digit classes."
         ],
         "metadata": {}
     },
     {
         "cell_type": "code",
         "source": [
             "import torch\n",
             "import torchvision\n",
             "import torchvision.transforms as transforms\n",
             "\n",
             "# Load MNIST dataset\n",
             "transform = transforms.Compose([transforms.ToTensor(), transforms.Normalize((0.5,), (0.5,))])\n",
             "\n",
             "trainset = torchvision.datasets.MNIST(root='./data', train=True, download=True, transform=transform)\n",
             "trainloader = torch.utils.data.DataLoader(trainset, batch_size=100, shuffle=True)\n",
             "\n",
             "testset = torchvision.datasets.MNIST(root='./data', train=False, download=True, transform=transform)\n",
             "testloader = torch.utils.data.DataLoader(testset, batch_size=100, shuffle=False)"
         ],
         "metadata": {},
         "outputs": [],
         "execution_count": null
     },
     {
         "cell_type": "markdown",
         "source": [
             "## 3. Explain Parameters and Settings"
         ],
         "metadata": {}
     },
     {
         "cell_type": "markdown",
         "source": [
             "We will create a simple feedforward neural network with one hidden layer. The key parameters and settings in our model are:\n",
             "\n",
             "* Input size: 784 (28x28 pixels, flattened)\n",
             "* Hidden layer size: 128 neurons\n",
             "* Output size: 10 (corresponding to digit classes 0-9)\n",
             "* Activation function: ReLU for hidden layer, Softmax for output layer\n",
             "* Loss function: Cross-Entropy Loss\n",
             "* Optimizer: Stochastic Gradient Descent (SGD)\n",
             "* Learning rate: 0.001\n",
             "* Number of training epochs: 10"
         ],
         "metadata": {}
     },
     {
         "cell_type": "code",
         "source": [
             "import torch.nn as nn\n",
             "\n",
             "# Define the neural network model\n",
             "class Net(nn.Module):\n",
             "    def __init__(self):\n",
             "        super(Net, self).__init__()\n",
             "        self.fc1 = nn.Linear(784, 128)\n",
             "        self.fc2 = nn.Linear(128, 10)\n",
             "\n",
             "    def forward(self, x):\n",
             "        x = x.view(-1, 784) # Flatten the input\n",
             "        x = torch.relu(self.fc1(x))\n",
             "        x = self.fc2(x)\n",
             "        return x\n",
             "\n",
             "net = Net()\n",
             "\n",
             "# Loss function and optimizer\n",
             "criterion = nn.CrossEntropyLoss()\n",
             "optimizer = torch.optim.SGD(net.parameters(), lr=0.001)"
         ],
         "metadata": {},
         "outputs": [],
         "execution_count": null
     },
     {
         "cell_type": "markdown",
         "source": [
             "## 4. Training Process"
         ],
         "metadata": {}
     },
     {
         "cell_type": "markdown",
         "source": [
             "We will now train our neural network model using the training dataset. We will iterate through the dataset for a specified number of epochs, compute the loss, and update the weights and biases using the optimizer."
         ],
         "metadata": {}
     },
     {
         "cell_type": "code",
         "source": [
             "# Train the model\n",
             "num_epochs = 10\n",
             "\n",
             "for epoch in range(num_epochs):\n",
             "    running_loss = 0.0\n",
             "\n",
             "    for i, data in enumerate(trainloader, 0):\n",
             "        inputs, labels = data\n",
             "\n",
             "        optimizer.zero_grad()\n",
             "\n",
             "        outputs = net(inputs)\n",
             "\n",
             "        loss = criterion(outputs, labels)\n",
             "\n",
             "        loss.backward()\n",
             "\n",
             "        optimizer.step()\n",
             "\n",
             "        running_loss += loss.item()\n",
             "\n",
             "    print(f'Epoch {epoch + 1}, Loss: {running_loss / (i + 1)}')\n"
         ],
         "metadata": {},
         "outputs": [],
         "execution_count": null
     },
     {
         "cell_type": "markdown",
         "source": [
             "## 5. Saving and Loading Outputs"
         ],
         "metadata": {}
     },
     {
         "cell_type": "markdown",
         "source": [
             "After training, we can save the model's state dictionary to a file for later use. We can also load the saved state dictionary into a new model instance."
         ],
         "metadata": {}
     },
     {
         "cell_type": "code",
         "source": [
             "# Save the model\n",
             "torch.save(net.state_dict(), 'mnist_nn_model.pth')\n",
             "\n",
             "# Load the model\n",
             "loaded_net = Net()\n",
             "loaded_net.load_state_dict(torch.load('mnist_nn_model.pth'))"
         ],
         "metadata": {},
         "outputs": [],
         "execution_count": null
     },
     {
         "cell_type": "markdown",
         "source": [
             "## 6. Evaluation and Interpretation"
         ],
         "metadata": {}
     },
     {
         "cell_type": "markdown",
         "source": [
             "We will now evaluate our model using the test dataset. We will compute the overall accuracy of the model in predicting the correct digit classes."
         ],
         "metadata": {}
     },
     {
         "cell_type": "code",
         "source": [
             "# Evaluate the model\n",
             "correct = 0\n",
             "total = 0\n",
             "\n",
             "# Disable gradient computation for evaluation\n",
             "with torch.no_grad():\n",
             "\n",
             "\n",
             "\n",
             "\n",
             "for data in testloader:\n",
             "        images, labels = data\n",
             "        outputs = loaded_net(images)\n",
             "\n",
             "        _, predicted = torch.max(outputs.data, 1)\n",
             "\n",
             "        total += labels.size(0)\n",
             "        correct += (predicted == labels).sum().item()\n",
             "\n",
             "print(f'Accuracy: {100 * correct / total}%')\n"
         ],
         "metadata": {},
         "outputs": [],
         "execution_count": null
     },
     {
         "cell_type": "markdown",
         "source": [
             "## 7. Practical Application"
         ],
         "metadata": {}
     },
     {
         "cell_type": "markdown",
         "source": [
             "Our trained neural network model can now be used to classify handwritten digits. In practical applications, this could be used for tasks such as recognizing handwritten zip codes on envelopes or detecting numbers in images from a camera feed. To make predictions, simply pass the input image through the `loaded_net()` function and use `torch.max()` to obtain the predicted class."
         ],
         "metadata": {}
     },
     {
         "cell_type": "code",
         "source": [
             "# Make a prediction\n",
             "image, label = testset[0] # Get an image from the test set\n",
             "\n",
             "# Predict the digit class\n",
             "with torch.no_grad():\n",
             "    output = loaded_net(image.unsqueeze(0))\n",
             "\n",
             "_ , predicted_digit = torch.max(output.data, 1)\n",
             "\n",
             "# Print the predicted digit\n",
             "print(f'Predicted Digit: {predicted_digit.item()}')\n"
         ],
         "metadata": {},
         "outputs": [],
         "execution_count": null
     }
 ],
  "metadata": {
   "kernelspec": {
    "display_name": "Python 3 (ipykernel)",
    "language": "python",
    "name": "python3"
   },
   "language_info": {
    "codemirror_mode": {
     "name": "ipython",
     "version": 3
    },
    "file_extension": ".py",
    "mimetype": "text/x-python",
    "name": "python",
    "nbconvert_exporter": "python",
    "pygments_lexer": "ipython3",
    "version": "3.11.1"
   }
  },
  "nbformat": 4,
  "nbformat_minor": 5
 }
