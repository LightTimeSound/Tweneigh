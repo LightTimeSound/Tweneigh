{
   "cells": [
    {
        "cell_type": "markdown",
        "source": [
            "# Combining Multiple Loss Functions\n",
            "\n",
            "In this tutorial, we will explore how to combine multiple loss functions in PyTorch. Combining loss functions can be useful when you want to optimize your model based on multiple criteria or when dealing with multi-task learning problems.\n",
            "\n",
            "We will use a simple regression and classification problem to demonstrate the concept. Let's start by importing the necessary libraries and generating some sample data."
        ],
        "metadata": {}
    },
    {
        "cell_type": "code",
        "source": [
            "import torch\n",
            "import torch.nn as nn\n",
            "import torch.optim as optim\n",
            "\n",
            "# Generate sample data for regression\n",
            "torch.manual_seed(0)\n",
            "regression_data = torch.randn(100, 1) * 10\n",
            "regression_targets = regression_data * 2 + 3 + torch.randn(100, 1) * 2\n",
            "\n",
            "# Generate sample data for classification\n",
            "classification_data = torch.cat((torch.randn(50, 1) - 2, torch.randn(50, 1) + 2))\n",
            "classification_targets = torch.cat((torch.zeros(50), torch.ones(50))).long()\n",
            "\n",
            "print('Sample regression data:', regression_data[:5])\n",
            "print('Sample regression targets:', regression_targets[:5])\n",
            "print('Sample classification data:', classification_data[:5])\n",
            "print('Sample classification targets:', classification_targets[:5])"
        ],
        "metadata": {},
        "outputs": [],
        "execution_count": null
    },
    {
        "cell_type": "markdown",
        "source": [
            "## Creating the Model and Defining Loss Functions\n",
            "\n",
            "We will create a simple linear model that will be used for both regression and classification tasks. Then, we will define two separate loss functions: Mean Squared Error (MSE) Loss for regression and Cross-Entropy Loss for classification."
        ],
        "metadata": {}
    },
    {
        "cell_type": "code",
        "source": [
            "class SimpleModel(nn.Module):\n",
            "    def __init__(self):\n",
            "        super(SimpleModel, self).__init__()\n",
            "        self.linear = nn.Linear(1, 1)\n",
            "        self.classifier = nn.Linear(1, 2)\n",
            "    \n",
            "    def forward(self, x):\n",
            "        regression_output = self.linear(x)\n",
            "        classification_output = self.classifier(regression_output)\n",
            "        return regression_output, classification_output\n",
            "\n",
            "model = SimpleModel()\n",
            "print(model)\n",
            "\n",
            "# Define individual loss functions\n",
            "mse_loss = nn.MSELoss()\n",
            "cross_entropy_loss = nn.CrossEntropyLoss()"
        ],
        "metadata": {},
        "outputs": [],
        "execution_count": null
    },
    {
        "cell_type": "markdown",
        "source": [
            "## Combining Loss Functions and Training the Model\n",
            "\n",
            "We will now combine the two loss functions using a weighted sum. The weights can be adjusted based on the importance of each task. We'll also set up the optimizer and train the model for a few epochs."
        ],
        "metadata": {}
    },
    {
        "cell_type": "code",
        "source": [
            "def combined_loss(regression_output, classification_output, regression_targets, classification_targets, alpha=0.5):\n",
            "    loss1 = mse_loss(regression_output, regression_targets)\n",
            "    loss2 = cross_entropy_loss(classification_output, classification_targets)\n",
            "    return alpha * loss1 + (1 - alpha) * loss2\n",
            "\n",
            "optimizer = optim.SGD(model.parameters(), lr=0.01)\n",
            "\n",
            "# Train the model\n",
            "for epoch in range(100):\n",
            "    optimizer.zero_grad()\n",
            "    regression_output, classification_output = model(regression_data)\n",
            "    loss = combined_loss(regression_output, classification_output, regression_targets, classification_targets)\n",
            "    loss.backward()\n",
            "    optimizer.step()\n",
            "    if (epoch + 1) % 10 == 0:\n",
            "        print(f'Epoch [{epoch + 1}/100], Loss: {loss.item():.4f}')"
        ],
        "metadata": {},
        "outputs": [],
        "execution_count": null
    },
    {
        "cell_type": "markdown",
        "source": [
            "## Evaluation and Interpretation\n",
            "\n",
            "After training the model, we can evaluate its performance on both regression and classification tasks. We will calculate the Mean Squared Error (MSE) for the regression task and accuracy for the classification task. Then, we'll discuss the significance of the results."
        ],
        "metadata": {}
    },
    {
        "cell_type": "code",
        "source": [
            "def evaluate_model(model, regression_data, regression_targets, classification_data, classification_targets):\n",
            "    model.eval()\n",
            "    with torch.no_grad():\n",
            "        regression_output, classification_output = model(regression_data)\n",
            "        regression_mse = mse_loss(regression_output, regression_targets).item()\n",
            "        classification_preds = torch.argmax(classification_output, dim=1)\n",
            "        classification_accuracy = torch.mean((classification_preds == classification_targets).float()).item()\n",
            "        return regression_mse, classification_accuracy\n",
            "\n",
            "regression_mse, classification_accuracy = evaluate_model(model, regression_data, regression_targets, classification_data, classification_targets)\n",
            "print(f'Regression MSE: {regression_mse:.4f}')\n",
            "print(f'Classification Accuracy: {classification_accuracy:.4f}')"
        ],
        "metadata": {},
        "outputs": [],
        "execution_count": null
    }
],
 "metadata": {
  "kernelspec": {
   "display_name": "Python 3 (ipykernel)",
   "language": "python",
   "name": "python3"
  },
  "language_info": {
   "codemirror_mode": {
    "name": "ipython",
    "version": 3
   },
   "file_extension": ".py",
   "mimetype": "text/x-python",
   "name": "python",
   "nbconvert_exporter": "python",
   "pygments_lexer": "ipython3",
   "version": "3.11.1"
  }
 },
 "nbformat": 4,
 "nbformat_minor": 5
}
