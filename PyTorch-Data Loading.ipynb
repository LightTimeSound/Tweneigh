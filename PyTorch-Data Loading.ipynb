{
  "metadata": {
    "language_info": {
      "name": "python",
      "version": "3.8.5"
    }
  },
  "nbformat": 4,
  "nbformat_minor": 2,
  "cells": [
    {
      "cell_type": "markdown",
      "metadata": {},
      "source": [
        "## Data loading and preprocessing in PyTorch\n",
        "Data loading and preprocessing are crucial steps in the machine learning pipeline. PyTorch provides the torch.utils.data module to help you efficiently load, preprocess, and feed data into your model during training and validation."
      ]
    },
    {
      "cell_type": "markdown",
      "metadata": {},
      "source": [
        "### Key concepts and components:\n",
        "1. Dataset: An abstract class representing a dataset. To create a custom dataset, you need to subclass torch.utils.data.Dataset and implement the __len__() and __getitem__() methods. The __len__() method should return the number of samples in the dataset, and the __getitem__() method should return a single sample (input-output pair) given an index.\n",
        "2. DataLoader: A utility class that provides an iterable over a dataset. It takes a Dataset instance as input and handles batching, shuffling, and parallel data loading using multiple worker processes. The DataLoader returns an iterator that yields batches of data during the training loop.\n",
        "3. Data transformations: PyTorch provides the torchvision.transforms module (for image data) and the torchtext.transforms module (for text data) to apply various transformations and preprocessing steps to the data. Transformations can be composed using the transforms.Compose class, which takes a list of transformations to be applied sequentially."
      ]
    },
    {
      "cell_type": "code",
      "execution_count": null,
      "metadata": {},
      "outputs": [],
      "source": [
        "# Import necessary modules\n",
        "from torch.utils.data import Dataset, DataLoader\n",
        "\n",
        "# Define a custom Dataset\n",
        "class MyDataset(Dataset):\n",
        "    def __init__(self, data):\n",
        "        self.data = data\n",
        "    def __len__(self):\n",
        "        return len(self.data)\n",
        "    def __getitem__(self, idx):\n",
        "        return self.data[idx]\n",
        "\n",
        "# Initialize the Dataset\n",
        "data = list(range(100))  # For example, data is a list of integers from 0 to 99\n",
        "dataset = MyDataset(data)\n",
        "\n",
        "# Initialize the DataLoader\n",
        "dataloader = DataLoader(dataset, batch_size=10, shuffle=True)"
      ]
    },
    {
      "cell_type": "markdown",
      "metadata": {},
      "source": [
        "Now you can use the DataLoader in your training loop to feed batches of data into your model."
      ]
    }
  ]
}
